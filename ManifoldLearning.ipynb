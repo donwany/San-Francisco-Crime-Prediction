{
 "cells": [
  {
   "cell_type": "code",
   "execution_count": 1,
   "metadata": {
    "collapsed": false
   },
   "outputs": [
    {
     "name": "stderr",
     "output_type": "stream",
     "text": [
      "/Users/theophilus/anaconda/lib/python3.5/site-packages/matplotlib/__init__.py:872: UserWarning: axes.color_cycle is deprecated and replaced with axes.prop_cycle; please use the latter.\n",
      "  warnings.warn(self.msg_depr % (key, alt_key))\n"
     ]
    }
   ],
   "source": [
    "import numpy as np\n",
    "import pandas as pd\n",
    "import string\n",
    "import re \n",
    "from patsy import dmatrices\n",
    "\n",
    "import matplotlib.pyplot as plt\n",
    "\n",
    "import seaborn as sns\n",
    "sns.set_style('whitegrid')\n",
    "\n",
    "from sklearn.cross_validation import train_test_split\n",
    "from sklearn import cross_validation\n",
    "from sklearn.cross_validation import cross_val_score\n",
    "from sklearn.metrics import log_loss #evaluation metric\n",
    "\n",
    "from sklearn.tree import ExtraTreeClassifier\n",
    "from sklearn.ensemble import RandomForestClassifier\n",
    "from sklearn import preprocessing\n",
    "\n",
    "from datetime import datetime\n",
    "from matplotlib.colors import LogNorm\n",
    "from sklearn.metrics import accuracy_score,classification_report\n",
    "from sklearn.decomposition import PCA\n",
    "\n",
    "%matplotlib inline"
   ]
  },
  {
   "cell_type": "code",
   "execution_count": 2,
   "metadata": {
    "collapsed": false
   },
   "outputs": [
    {
     "name": "stdout",
     "output_type": "stream",
     "text": [
      "features.csv          submit.csv            test.csv\r\n",
      "features2.csv         submit_NB.csv         train.csv\r\n",
      "results.csv           submit_test.csv\r\n",
      "sanCrimeFeatures.csv  submit_test_NB.csv\r\n"
     ]
    }
   ],
   "source": [
    "%ls *.csv"
   ]
  },
  {
   "cell_type": "code",
   "execution_count": 3,
   "metadata": {
    "collapsed": false
   },
   "outputs": [
    {
     "name": "stdout",
     "output_type": "stream",
     "text": [
      "Size of data frame:  (878049, 106)\n"
     ]
    }
   ],
   "source": [
    "#reading the proccessed data set\n",
    "SNF = pd.read_csv(\"sanCrimeFeatures.csv\" , sep=',')\n",
    "\n",
    "# printing size of data frame\n",
    "print ('Size of data frame: ',SNF.shape)"
   ]
  },
  {
   "cell_type": "code",
   "execution_count": 4,
   "metadata": {
    "collapsed": false
   },
   "outputs": [
    {
     "data": {
      "text/html": [
       "<div>\n",
       "<table border=\"1\" class=\"dataframe\">\n",
       "  <thead>\n",
       "    <tr style=\"text-align: right;\">\n",
       "      <th></th>\n",
       "      <th>Unnamed: 0</th>\n",
       "      <th>X</th>\n",
       "      <th>Y</th>\n",
       "      <th>Summer</th>\n",
       "      <th>Fall</th>\n",
       "      <th>Winter</th>\n",
       "      <th>Spring</th>\n",
       "      <th>Addr</th>\n",
       "      <th>PD_BAYVIEW</th>\n",
       "      <th>PD_CENTRAL</th>\n",
       "      <th>...</th>\n",
       "      <th>YEAR_2007</th>\n",
       "      <th>YEAR_2008</th>\n",
       "      <th>YEAR_2009</th>\n",
       "      <th>YEAR_2010</th>\n",
       "      <th>YEAR_2011</th>\n",
       "      <th>YEAR_2012</th>\n",
       "      <th>YEAR_2013</th>\n",
       "      <th>YEAR_2014</th>\n",
       "      <th>YEAR_2015</th>\n",
       "      <th>crime</th>\n",
       "    </tr>\n",
       "  </thead>\n",
       "  <tbody>\n",
       "    <tr>\n",
       "      <th>0</th>\n",
       "      <td>0</td>\n",
       "      <td>-0.107902</td>\n",
       "      <td>0.007832</td>\n",
       "      <td>1</td>\n",
       "      <td>0</td>\n",
       "      <td>0</td>\n",
       "      <td>0</td>\n",
       "      <td>1</td>\n",
       "      <td>0</td>\n",
       "      <td>0</td>\n",
       "      <td>...</td>\n",
       "      <td>0</td>\n",
       "      <td>0</td>\n",
       "      <td>0</td>\n",
       "      <td>0</td>\n",
       "      <td>0</td>\n",
       "      <td>0</td>\n",
       "      <td>0</td>\n",
       "      <td>0</td>\n",
       "      <td>1</td>\n",
       "      <td>37</td>\n",
       "    </tr>\n",
       "    <tr>\n",
       "      <th>1</th>\n",
       "      <td>1</td>\n",
       "      <td>-0.107902</td>\n",
       "      <td>0.007832</td>\n",
       "      <td>1</td>\n",
       "      <td>0</td>\n",
       "      <td>0</td>\n",
       "      <td>0</td>\n",
       "      <td>1</td>\n",
       "      <td>0</td>\n",
       "      <td>0</td>\n",
       "      <td>...</td>\n",
       "      <td>0</td>\n",
       "      <td>0</td>\n",
       "      <td>0</td>\n",
       "      <td>0</td>\n",
       "      <td>0</td>\n",
       "      <td>0</td>\n",
       "      <td>0</td>\n",
       "      <td>0</td>\n",
       "      <td>1</td>\n",
       "      <td>21</td>\n",
       "    </tr>\n",
       "    <tr>\n",
       "      <th>2</th>\n",
       "      <td>2</td>\n",
       "      <td>-0.057541</td>\n",
       "      <td>0.064335</td>\n",
       "      <td>1</td>\n",
       "      <td>0</td>\n",
       "      <td>0</td>\n",
       "      <td>0</td>\n",
       "      <td>1</td>\n",
       "      <td>0</td>\n",
       "      <td>0</td>\n",
       "      <td>...</td>\n",
       "      <td>0</td>\n",
       "      <td>0</td>\n",
       "      <td>0</td>\n",
       "      <td>0</td>\n",
       "      <td>0</td>\n",
       "      <td>0</td>\n",
       "      <td>0</td>\n",
       "      <td>0</td>\n",
       "      <td>1</td>\n",
       "      <td>21</td>\n",
       "    </tr>\n",
       "    <tr>\n",
       "      <th>3</th>\n",
       "      <td>3</td>\n",
       "      <td>-0.144262</td>\n",
       "      <td>0.065338</td>\n",
       "      <td>1</td>\n",
       "      <td>0</td>\n",
       "      <td>0</td>\n",
       "      <td>0</td>\n",
       "      <td>0</td>\n",
       "      <td>0</td>\n",
       "      <td>0</td>\n",
       "      <td>...</td>\n",
       "      <td>0</td>\n",
       "      <td>0</td>\n",
       "      <td>0</td>\n",
       "      <td>0</td>\n",
       "      <td>0</td>\n",
       "      <td>0</td>\n",
       "      <td>0</td>\n",
       "      <td>0</td>\n",
       "      <td>1</td>\n",
       "      <td>16</td>\n",
       "    </tr>\n",
       "    <tr>\n",
       "      <th>4</th>\n",
       "      <td>4</td>\n",
       "      <td>-0.531112</td>\n",
       "      <td>0.001140</td>\n",
       "      <td>1</td>\n",
       "      <td>0</td>\n",
       "      <td>0</td>\n",
       "      <td>0</td>\n",
       "      <td>0</td>\n",
       "      <td>0</td>\n",
       "      <td>0</td>\n",
       "      <td>...</td>\n",
       "      <td>0</td>\n",
       "      <td>0</td>\n",
       "      <td>0</td>\n",
       "      <td>0</td>\n",
       "      <td>0</td>\n",
       "      <td>0</td>\n",
       "      <td>0</td>\n",
       "      <td>0</td>\n",
       "      <td>1</td>\n",
       "      <td>16</td>\n",
       "    </tr>\n",
       "  </tbody>\n",
       "</table>\n",
       "<p>5 rows × 106 columns</p>\n",
       "</div>"
      ],
      "text/plain": [
       "   Unnamed: 0         X         Y  Summer  Fall  Winter  Spring  Addr  \\\n",
       "0           0 -0.107902  0.007832       1     0       0       0     1   \n",
       "1           1 -0.107902  0.007832       1     0       0       0     1   \n",
       "2           2 -0.057541  0.064335       1     0       0       0     1   \n",
       "3           3 -0.144262  0.065338       1     0       0       0     0   \n",
       "4           4 -0.531112  0.001140       1     0       0       0     0   \n",
       "\n",
       "   PD_BAYVIEW  PD_CENTRAL  ...    YEAR_2007  YEAR_2008  YEAR_2009  YEAR_2010  \\\n",
       "0           0           0  ...            0          0          0          0   \n",
       "1           0           0  ...            0          0          0          0   \n",
       "2           0           0  ...            0          0          0          0   \n",
       "3           0           0  ...            0          0          0          0   \n",
       "4           0           0  ...            0          0          0          0   \n",
       "\n",
       "   YEAR_2011  YEAR_2012  YEAR_2013  YEAR_2014  YEAR_2015  crime  \n",
       "0          0          0          0          0          1     37  \n",
       "1          0          0          0          0          1     21  \n",
       "2          0          0          0          0          1     21  \n",
       "3          0          0          0          0          1     16  \n",
       "4          0          0          0          0          1     16  \n",
       "\n",
       "[5 rows x 106 columns]"
      ]
     },
     "execution_count": 4,
     "metadata": {},
     "output_type": "execute_result"
    }
   ],
   "source": [
    "SNF.head()"
   ]
  },
  {
   "cell_type": "code",
   "execution_count": 5,
   "metadata": {
    "collapsed": false
   },
   "outputs": [
    {
     "data": {
      "text/html": [
       "<div>\n",
       "<table border=\"1\" class=\"dataframe\">\n",
       "  <thead>\n",
       "    <tr style=\"text-align: right;\">\n",
       "      <th></th>\n",
       "      <th>X</th>\n",
       "      <th>Y</th>\n",
       "      <th>Summer</th>\n",
       "      <th>Fall</th>\n",
       "      <th>Winter</th>\n",
       "      <th>Spring</th>\n",
       "      <th>Addr</th>\n",
       "      <th>PD_BAYVIEW</th>\n",
       "      <th>PD_CENTRAL</th>\n",
       "      <th>PD_INGLESIDE</th>\n",
       "      <th>...</th>\n",
       "      <th>YEAR_2007</th>\n",
       "      <th>YEAR_2008</th>\n",
       "      <th>YEAR_2009</th>\n",
       "      <th>YEAR_2010</th>\n",
       "      <th>YEAR_2011</th>\n",
       "      <th>YEAR_2012</th>\n",
       "      <th>YEAR_2013</th>\n",
       "      <th>YEAR_2014</th>\n",
       "      <th>YEAR_2015</th>\n",
       "      <th>crime</th>\n",
       "    </tr>\n",
       "  </thead>\n",
       "  <tbody>\n",
       "    <tr>\n",
       "      <th>0</th>\n",
       "      <td>-0.107902</td>\n",
       "      <td>0.007832</td>\n",
       "      <td>1</td>\n",
       "      <td>0</td>\n",
       "      <td>0</td>\n",
       "      <td>0</td>\n",
       "      <td>1</td>\n",
       "      <td>0</td>\n",
       "      <td>0</td>\n",
       "      <td>0</td>\n",
       "      <td>...</td>\n",
       "      <td>0</td>\n",
       "      <td>0</td>\n",
       "      <td>0</td>\n",
       "      <td>0</td>\n",
       "      <td>0</td>\n",
       "      <td>0</td>\n",
       "      <td>0</td>\n",
       "      <td>0</td>\n",
       "      <td>1</td>\n",
       "      <td>37</td>\n",
       "    </tr>\n",
       "    <tr>\n",
       "      <th>1</th>\n",
       "      <td>-0.107902</td>\n",
       "      <td>0.007832</td>\n",
       "      <td>1</td>\n",
       "      <td>0</td>\n",
       "      <td>0</td>\n",
       "      <td>0</td>\n",
       "      <td>1</td>\n",
       "      <td>0</td>\n",
       "      <td>0</td>\n",
       "      <td>0</td>\n",
       "      <td>...</td>\n",
       "      <td>0</td>\n",
       "      <td>0</td>\n",
       "      <td>0</td>\n",
       "      <td>0</td>\n",
       "      <td>0</td>\n",
       "      <td>0</td>\n",
       "      <td>0</td>\n",
       "      <td>0</td>\n",
       "      <td>1</td>\n",
       "      <td>21</td>\n",
       "    </tr>\n",
       "    <tr>\n",
       "      <th>2</th>\n",
       "      <td>-0.057541</td>\n",
       "      <td>0.064335</td>\n",
       "      <td>1</td>\n",
       "      <td>0</td>\n",
       "      <td>0</td>\n",
       "      <td>0</td>\n",
       "      <td>1</td>\n",
       "      <td>0</td>\n",
       "      <td>0</td>\n",
       "      <td>0</td>\n",
       "      <td>...</td>\n",
       "      <td>0</td>\n",
       "      <td>0</td>\n",
       "      <td>0</td>\n",
       "      <td>0</td>\n",
       "      <td>0</td>\n",
       "      <td>0</td>\n",
       "      <td>0</td>\n",
       "      <td>0</td>\n",
       "      <td>1</td>\n",
       "      <td>21</td>\n",
       "    </tr>\n",
       "    <tr>\n",
       "      <th>3</th>\n",
       "      <td>-0.144262</td>\n",
       "      <td>0.065338</td>\n",
       "      <td>1</td>\n",
       "      <td>0</td>\n",
       "      <td>0</td>\n",
       "      <td>0</td>\n",
       "      <td>0</td>\n",
       "      <td>0</td>\n",
       "      <td>0</td>\n",
       "      <td>0</td>\n",
       "      <td>...</td>\n",
       "      <td>0</td>\n",
       "      <td>0</td>\n",
       "      <td>0</td>\n",
       "      <td>0</td>\n",
       "      <td>0</td>\n",
       "      <td>0</td>\n",
       "      <td>0</td>\n",
       "      <td>0</td>\n",
       "      <td>1</td>\n",
       "      <td>16</td>\n",
       "    </tr>\n",
       "    <tr>\n",
       "      <th>4</th>\n",
       "      <td>-0.531112</td>\n",
       "      <td>0.001140</td>\n",
       "      <td>1</td>\n",
       "      <td>0</td>\n",
       "      <td>0</td>\n",
       "      <td>0</td>\n",
       "      <td>0</td>\n",
       "      <td>0</td>\n",
       "      <td>0</td>\n",
       "      <td>0</td>\n",
       "      <td>...</td>\n",
       "      <td>0</td>\n",
       "      <td>0</td>\n",
       "      <td>0</td>\n",
       "      <td>0</td>\n",
       "      <td>0</td>\n",
       "      <td>0</td>\n",
       "      <td>0</td>\n",
       "      <td>0</td>\n",
       "      <td>1</td>\n",
       "      <td>16</td>\n",
       "    </tr>\n",
       "  </tbody>\n",
       "</table>\n",
       "<p>5 rows × 105 columns</p>\n",
       "</div>"
      ],
      "text/plain": [
       "          X         Y  Summer  Fall  Winter  Spring  Addr  PD_BAYVIEW  \\\n",
       "0 -0.107902  0.007832       1     0       0       0     1           0   \n",
       "1 -0.107902  0.007832       1     0       0       0     1           0   \n",
       "2 -0.057541  0.064335       1     0       0       0     1           0   \n",
       "3 -0.144262  0.065338       1     0       0       0     0           0   \n",
       "4 -0.531112  0.001140       1     0       0       0     0           0   \n",
       "\n",
       "   PD_CENTRAL  PD_INGLESIDE  ...    YEAR_2007  YEAR_2008  YEAR_2009  \\\n",
       "0           0             0  ...            0          0          0   \n",
       "1           0             0  ...            0          0          0   \n",
       "2           0             0  ...            0          0          0   \n",
       "3           0             0  ...            0          0          0   \n",
       "4           0             0  ...            0          0          0   \n",
       "\n",
       "   YEAR_2010  YEAR_2011  YEAR_2012  YEAR_2013  YEAR_2014  YEAR_2015  crime  \n",
       "0          0          0          0          0          0          1     37  \n",
       "1          0          0          0          0          0          1     21  \n",
       "2          0          0          0          0          0          1     21  \n",
       "3          0          0          0          0          0          1     16  \n",
       "4          0          0          0          0          0          1     16  \n",
       "\n",
       "[5 rows x 105 columns]"
      ]
     },
     "execution_count": 5,
     "metadata": {},
     "output_type": "execute_result"
    }
   ],
   "source": [
    "#drop Unnamed column.\n",
    "SNF_df = SNF.drop('Unnamed: 0',axis=1)\n",
    "SNF_df.head()"
   ]
  },
  {
   "cell_type": "code",
   "execution_count": 6,
   "metadata": {
    "collapsed": false
   },
   "outputs": [
    {
     "data": {
      "text/plain": [
       "(878049, 105)"
      ]
     },
     "execution_count": 6,
     "metadata": {},
     "output_type": "execute_result"
    }
   ],
   "source": [
    "SNF_df.shape"
   ]
  },
  {
   "cell_type": "code",
   "execution_count": 7,
   "metadata": {
    "collapsed": false
   },
   "outputs": [],
   "source": [
    "#print features column names\n",
    "collist=SNF_df.columns.tolist()"
   ]
  },
  {
   "cell_type": "code",
   "execution_count": 8,
   "metadata": {
    "collapsed": false
   },
   "outputs": [
    {
     "data": {
      "text/plain": [
       "(878049, 104)"
      ]
     },
     "execution_count": 8,
     "metadata": {},
     "output_type": "execute_result"
    }
   ],
   "source": [
    "# features\n",
    "X = SNF_df[collist[:-1]]\n",
    "X.shape"
   ]
  },
  {
   "cell_type": "code",
   "execution_count": 9,
   "metadata": {
    "collapsed": false
   },
   "outputs": [
    {
     "data": {
      "text/plain": [
       "(878049,)"
      ]
     },
     "execution_count": 9,
     "metadata": {},
     "output_type": "execute_result"
    }
   ],
   "source": [
    "# targets\n",
    "y = SNF_df['crime']\n",
    "y.shape"
   ]
  },
  {
   "cell_type": "code",
   "execution_count": 12,
   "metadata": {
    "collapsed": false
   },
   "outputs": [
    {
     "data": {
      "text/html": [
       "<div>\n",
       "<table border=\"1\" class=\"dataframe\">\n",
       "  <thead>\n",
       "    <tr style=\"text-align: right;\">\n",
       "      <th></th>\n",
       "      <th>X</th>\n",
       "      <th>Y</th>\n",
       "      <th>Summer</th>\n",
       "      <th>Fall</th>\n",
       "      <th>Winter</th>\n",
       "      <th>Spring</th>\n",
       "      <th>Addr</th>\n",
       "      <th>PD_BAYVIEW</th>\n",
       "      <th>PD_CENTRAL</th>\n",
       "      <th>PD_INGLESIDE</th>\n",
       "      <th>...</th>\n",
       "      <th>YEAR_2006</th>\n",
       "      <th>YEAR_2007</th>\n",
       "      <th>YEAR_2008</th>\n",
       "      <th>YEAR_2009</th>\n",
       "      <th>YEAR_2010</th>\n",
       "      <th>YEAR_2011</th>\n",
       "      <th>YEAR_2012</th>\n",
       "      <th>YEAR_2013</th>\n",
       "      <th>YEAR_2014</th>\n",
       "      <th>YEAR_2015</th>\n",
       "    </tr>\n",
       "  </thead>\n",
       "  <tbody>\n",
       "    <tr>\n",
       "      <th>0</th>\n",
       "      <td>-0.107902</td>\n",
       "      <td>0.007832</td>\n",
       "      <td>1</td>\n",
       "      <td>0</td>\n",
       "      <td>0</td>\n",
       "      <td>0</td>\n",
       "      <td>1</td>\n",
       "      <td>0</td>\n",
       "      <td>0</td>\n",
       "      <td>0</td>\n",
       "      <td>...</td>\n",
       "      <td>0</td>\n",
       "      <td>0</td>\n",
       "      <td>0</td>\n",
       "      <td>0</td>\n",
       "      <td>0</td>\n",
       "      <td>0</td>\n",
       "      <td>0</td>\n",
       "      <td>0</td>\n",
       "      <td>0</td>\n",
       "      <td>1</td>\n",
       "    </tr>\n",
       "    <tr>\n",
       "      <th>1</th>\n",
       "      <td>-0.107902</td>\n",
       "      <td>0.007832</td>\n",
       "      <td>1</td>\n",
       "      <td>0</td>\n",
       "      <td>0</td>\n",
       "      <td>0</td>\n",
       "      <td>1</td>\n",
       "      <td>0</td>\n",
       "      <td>0</td>\n",
       "      <td>0</td>\n",
       "      <td>...</td>\n",
       "      <td>0</td>\n",
       "      <td>0</td>\n",
       "      <td>0</td>\n",
       "      <td>0</td>\n",
       "      <td>0</td>\n",
       "      <td>0</td>\n",
       "      <td>0</td>\n",
       "      <td>0</td>\n",
       "      <td>0</td>\n",
       "      <td>1</td>\n",
       "    </tr>\n",
       "    <tr>\n",
       "      <th>2</th>\n",
       "      <td>-0.057541</td>\n",
       "      <td>0.064335</td>\n",
       "      <td>1</td>\n",
       "      <td>0</td>\n",
       "      <td>0</td>\n",
       "      <td>0</td>\n",
       "      <td>1</td>\n",
       "      <td>0</td>\n",
       "      <td>0</td>\n",
       "      <td>0</td>\n",
       "      <td>...</td>\n",
       "      <td>0</td>\n",
       "      <td>0</td>\n",
       "      <td>0</td>\n",
       "      <td>0</td>\n",
       "      <td>0</td>\n",
       "      <td>0</td>\n",
       "      <td>0</td>\n",
       "      <td>0</td>\n",
       "      <td>0</td>\n",
       "      <td>1</td>\n",
       "    </tr>\n",
       "    <tr>\n",
       "      <th>3</th>\n",
       "      <td>-0.144262</td>\n",
       "      <td>0.065338</td>\n",
       "      <td>1</td>\n",
       "      <td>0</td>\n",
       "      <td>0</td>\n",
       "      <td>0</td>\n",
       "      <td>0</td>\n",
       "      <td>0</td>\n",
       "      <td>0</td>\n",
       "      <td>0</td>\n",
       "      <td>...</td>\n",
       "      <td>0</td>\n",
       "      <td>0</td>\n",
       "      <td>0</td>\n",
       "      <td>0</td>\n",
       "      <td>0</td>\n",
       "      <td>0</td>\n",
       "      <td>0</td>\n",
       "      <td>0</td>\n",
       "      <td>0</td>\n",
       "      <td>1</td>\n",
       "    </tr>\n",
       "    <tr>\n",
       "      <th>4</th>\n",
       "      <td>-0.531112</td>\n",
       "      <td>0.001140</td>\n",
       "      <td>1</td>\n",
       "      <td>0</td>\n",
       "      <td>0</td>\n",
       "      <td>0</td>\n",
       "      <td>0</td>\n",
       "      <td>0</td>\n",
       "      <td>0</td>\n",
       "      <td>0</td>\n",
       "      <td>...</td>\n",
       "      <td>0</td>\n",
       "      <td>0</td>\n",
       "      <td>0</td>\n",
       "      <td>0</td>\n",
       "      <td>0</td>\n",
       "      <td>0</td>\n",
       "      <td>0</td>\n",
       "      <td>0</td>\n",
       "      <td>0</td>\n",
       "      <td>1</td>\n",
       "    </tr>\n",
       "  </tbody>\n",
       "</table>\n",
       "<p>5 rows × 104 columns</p>\n",
       "</div>"
      ],
      "text/plain": [
       "          X         Y  Summer  Fall  Winter  Spring  Addr  PD_BAYVIEW  \\\n",
       "0 -0.107902  0.007832       1     0       0       0     1           0   \n",
       "1 -0.107902  0.007832       1     0       0       0     1           0   \n",
       "2 -0.057541  0.064335       1     0       0       0     1           0   \n",
       "3 -0.144262  0.065338       1     0       0       0     0           0   \n",
       "4 -0.531112  0.001140       1     0       0       0     0           0   \n",
       "\n",
       "   PD_CENTRAL  PD_INGLESIDE    ...      YEAR_2006  YEAR_2007  YEAR_2008  \\\n",
       "0           0             0    ...              0          0          0   \n",
       "1           0             0    ...              0          0          0   \n",
       "2           0             0    ...              0          0          0   \n",
       "3           0             0    ...              0          0          0   \n",
       "4           0             0    ...              0          0          0   \n",
       "\n",
       "   YEAR_2009  YEAR_2010  YEAR_2011  YEAR_2012  YEAR_2013  YEAR_2014  YEAR_2015  \n",
       "0          0          0          0          0          0          0          1  \n",
       "1          0          0          0          0          0          0          1  \n",
       "2          0          0          0          0          0          0          1  \n",
       "3          0          0          0          0          0          0          1  \n",
       "4          0          0          0          0          0          0          1  \n",
       "\n",
       "[5 rows x 104 columns]"
      ]
     },
     "execution_count": 12,
     "metadata": {},
     "output_type": "execute_result"
    }
   ],
   "source": [
    "X.head()"
   ]
  },
  {
   "cell_type": "code",
   "execution_count": 11,
   "metadata": {
    "collapsed": false
   },
   "outputs": [
    {
     "data": {
      "text/plain": [
       "[878049, 104]"
      ]
     },
     "execution_count": 11,
     "metadata": {},
     "output_type": "execute_result"
    }
   ],
   "source": [
    "n_samples,n_features = X.shape\n",
    "[n_samples,n_features]"
   ]
  },
  {
   "cell_type": "markdown",
   "metadata": {},
   "source": [
    "## Locally Linear Embedding applied to : ['standard', 'ltsa', 'modified']"
   ]
  },
  {
   "cell_type": "code",
   "execution_count": 13,
   "metadata": {
    "collapsed": false
   },
   "outputs": [
    {
     "data": {
      "text/plain": [
       "mpl_toolkits.mplot3d.axes3d.Axes3D"
      ]
     },
     "execution_count": 13,
     "metadata": {},
     "output_type": "execute_result"
    }
   ],
   "source": [
    "from time import time\n",
    "\n",
    "import matplotlib.pyplot as plt\n",
    "from mpl_toolkits.mplot3d import Axes3D\n",
    "from matplotlib.ticker import NullFormatter\n",
    "\n",
    "from sklearn import manifold, datasets\n",
    "\n",
    "# Next line to silence pyflakes. This import is needed.\n",
    "Axes3D"
   ]
  },
  {
   "cell_type": "code",
   "execution_count": null,
   "metadata": {
    "collapsed": false
   },
   "outputs": [],
   "source": [
    "n_points = 878049\n",
    "n_neighbors = 100\n",
    "n_components = 10\n",
    "\n",
    "fig = plt.figure(figsize=(15, 8))\n",
    "plt.suptitle(\"Manifold Learning with %i points, %i neighbors\"% (n_points, n_neighbors), fontsize=14)\n",
    "#try:\n",
    "    # compatibility matplotlib < 1.0\n",
    "#    ax = fig.add_subplot(251, projection='3d')\n",
    "#    ax.scatter(X[:, 0], X[:, 1], X[:, 2], c=y, cmap=plt.cm.Spectral)\n",
    "#    ax.view_init(4, -72)\n",
    "#except:\n",
    "#    ax = fig.add_subplot(251, projection='3d')\n",
    "#    plt.scatter(X[:, 0], X[:, 2], c=y, cmap=plt.cm.Spectral)\n",
    "\n",
    "\n",
    "methods = ['standard', 'ltsa', 'modified']\n",
    "labels = ['LLE', 'LTSA', 'Modified LLE']\n",
    "\n",
    "for i, method in enumerate(methods):\n",
    "    t0 = time()\n",
    "    Y = manifold.LocallyLinearEmbedding(n_neighbors, n_components, reg=0.001, \\\n",
    "                                        eigen_solver='auto', tol=1e-06, max_iter=100, \\\n",
    "                                        method=method).fit_transform(X)\n",
    "    t1 = time()\n",
    "    print(\"%s: %.2g sec\" % (methods[i], t1 - t0))\n",
    "\n",
    "    ax = fig.add_subplot(252 + i)\n",
    "    plt.scatter(Y[:, 0], Y[:, 1], c=y, cmap=plt.cm.Spectral)\n",
    "    plt.title(\"%s (%.2g sec)\" % (labels[i], t1 - t0))\n",
    "    ax.xaxis.set_major_formatter(NullFormatter())\n",
    "    ax.yaxis.set_major_formatter(NullFormatter())\n",
    "    plt.axis('tight')"
   ]
  },
  {
   "cell_type": "markdown",
   "metadata": {},
   "source": [
    "## Hessian LLE\n",
    "Note : neigbors > n_components *(n_components+3)/2"
   ]
  },
  {
   "cell_type": "code",
   "execution_count": null,
   "metadata": {
    "collapsed": false
   },
   "outputs": [],
   "source": [
    "n_points = 878049\n",
    "n_neighbors = 100\n",
    "n_components = 10\n",
    "\n",
    "fig = plt.figure(figsize=(15, 7))\n",
    "plt.suptitle(\"Manifold Learning with %i points, %i neighbors\"% (n_points, n_neighbors), fontsize=14)\n",
    "try:\n",
    "    # compatibility matplotlib < 1.0\n",
    "    ax = fig.add_subplot(251, projection='3d')\n",
    "    ax.scatter(X[:, 0], X[:, 1], X[:, 2], c=y, cmap=plt.cm.Spectral)\n",
    "    ax.view_init(4, -72)\n",
    "except:\n",
    "    ax = fig.add_subplot(251, projection='3d')\n",
    "    plt.scatter(X[:, 0], X[:, 2], c=y, cmap=plt.cm.Spectral)\n",
    "\n",
    "\n",
    "methods = ['hessian']\n",
    "labels = ['Hessian LLE']\n",
    "\n",
    "for i, method in enumerate(methods):\n",
    "    t0 = time()\n",
    "    Y = manifold.LocallyLinearEmbedding(n_neighbors, n_components, reg=0.001, \\\n",
    "                                        eigen_solver='auto', tol=1e-06, max_iter=100, \\\n",
    "                                        method=method).fit_transform(X)\n",
    "    t1 = time()\n",
    "    print(\"%s: %.2g sec\" % (methods[i], t1 - t0))\n",
    "\n",
    "    ax = fig.add_subplot(252 + i)\n",
    "    plt.scatter(Y[:, 0], Y[:, 1], c=y, cmap=plt.cm.Spectral)\n",
    "    plt.title(\"%s (%.2g sec)\" % (labels[i], t1 - t0))\n",
    "    ax.xaxis.set_major_formatter(NullFormatter())\n",
    "    ax.yaxis.set_major_formatter(NullFormatter())\n",
    "    plt.axis('tight')"
   ]
  },
  {
   "cell_type": "markdown",
   "metadata": {},
   "source": [
    "## MDS:"
   ]
  },
  {
   "cell_type": "code",
   "execution_count": null,
   "metadata": {
    "collapsed": false
   },
   "outputs": [],
   "source": [
    "t0 = time()\n",
    "mds = manifold.MDS(n_components, max_iter=100, n_init=1)\n",
    "Y = mds.fit_transform(X)\n",
    "t1 = time()\n",
    "print(\"MDS: %.2g sec\" % (t1 - t0))\n",
    "ax = fig.add_subplot(258)\n",
    "plt.scatter(Y[:, 0], Y[:, 1], c=y, cmap=plt.cm.Spectral)\n",
    "plt.title(\"MDS (%.2g sec)\" % (t1 - t0))\n",
    "ax.xaxis.set_major_formatter(NullFormatter())\n",
    "ax.yaxis.set_major_formatter(NullFormatter())\n",
    "plt.axis('tight')"
   ]
  },
  {
   "cell_type": "markdown",
   "metadata": {},
   "source": [
    "## Spectral Embedding:"
   ]
  },
  {
   "cell_type": "code",
   "execution_count": null,
   "metadata": {
    "collapsed": false
   },
   "outputs": [],
   "source": [
    "t0 = time()\n",
    "se = manifold.SpectralEmbedding(n_components=n_components,n_neighbors=n_neighbors)\n",
    "Y = se.fit_transform(X)\n",
    "t1 = time()\n",
    "print(\"SpectralEmbedding: %.2g sec\" % (t1 - t0))\n",
    "ax = fig.add_subplot(259)\n",
    "plt.scatter(Y[:, 0], Y[:, 1], c=y, cmap=plt.cm.Spectral)\n",
    "plt.title(\"SpectralEmbedding (%.2g sec)\" % (t1 - t0))\n",
    "ax.xaxis.set_major_formatter(NullFormatter())\n",
    "ax.yaxis.set_major_formatter(NullFormatter())\n",
    "plt.axis('tight')"
   ]
  },
  {
   "cell_type": "markdown",
   "metadata": {
    "collapsed": false
   },
   "source": [
    "## Isomap"
   ]
  },
  {
   "cell_type": "code",
   "execution_count": null,
   "metadata": {
    "collapsed": false
   },
   "outputs": [],
   "source": [
    "t0 = time()\n",
    "Y = manifold.Isomap(n_neighbors, n_components).fit_transform(X)\n",
    "t1 = time()\n",
    "print(\"Isomap: %.2g sec\" % (t1 - t0))\n",
    "ax = fig.add_subplot(257)\n",
    "plt.scatter(Y[:, 0], Y[:, 1], c=y, cmap=plt.cm.Spectral)\n",
    "plt.title(\"Isomap (%.2g sec)\" % (t1 - t0))\n",
    "ax.xaxis.set_major_formatter(NullFormatter())\n",
    "ax.yaxis.set_major_formatter(NullFormatter())\n",
    "plt.axis('tight')"
   ]
  },
  {
   "cell_type": "markdown",
   "metadata": {},
   "source": [
    "## t-Distributed Stochastic Neighbor Embedding (t-SNE) \n",
    "is a (prize-winning) technique for dimensionality reduction that is particularly well suited for the visualization of high-dimensional datasets. "
   ]
  },
  {
   "cell_type": "code",
   "execution_count": null,
   "metadata": {
    "collapsed": false
   },
   "outputs": [],
   "source": [
    "#plt.figure(figsize=(15,10))\n",
    "t0 = time()\n",
    "tsne = manifold.TSNE(n_components=n_components, init='pca', random_state=0)\n",
    "Y = tsne.fit_transform(X)\n",
    "t1 = time()\n",
    "print(\"t-SNE: %.2g sec\" % (t1 - t0))\n",
    "ax = fig.add_subplot(2, 5, 10)\n",
    "plt.scatter(Y[:, 0], Y[:, 1], c=y, cmap=plt.cm.Spectral)\n",
    "plt.title(\"t-SNE (%.2g sec)\" % (t1 - t0))\n",
    "ax.xaxis.set_major_formatter(NullFormatter())\n",
    "ax.yaxis.set_major_formatter(NullFormatter())\n",
    "plt.axis('tight')"
   ]
  },
  {
   "cell_type": "code",
   "execution_count": null,
   "metadata": {
    "collapsed": true
   },
   "outputs": [],
   "source": []
  }
 ],
 "metadata": {
  "kernelspec": {
   "display_name": "Python 3",
   "language": "python",
   "name": "python3"
  },
  "language_info": {
   "codemirror_mode": {
    "name": "ipython",
    "version": 3
   },
   "file_extension": ".py",
   "mimetype": "text/x-python",
   "name": "python",
   "nbconvert_exporter": "python",
   "pygments_lexer": "ipython3",
   "version": "3.5.1"
  }
 },
 "nbformat": 4,
 "nbformat_minor": 0
}
